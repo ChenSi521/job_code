{
 "cells": [
  {
   "cell_type": "code",
   "execution_count": 1,
   "metadata": {
    "scrolled": true
   },
   "outputs": [
    {
     "name": "stderr",
     "output_type": "stream",
     "text": [
      "/home/chen/anaconda3/lib/python3.6/site-packages/h5py/__init__.py:36: FutureWarning: Conversion of the second argument of issubdtype from `float` to `np.floating` is deprecated. In future, it will be treated as `np.float64 == np.dtype(float).type`.\n",
      "  from ._conv import register_converters as _register_converters\n"
     ]
    },
    {
     "name": "stdout",
     "output_type": "stream",
     "text": [
      "b'Hello,TensorFlow!'\n"
     ]
    }
   ],
   "source": [
    "#Python\n",
    "import tensorflow as tf\n",
    "\n",
    "hello = tf.constant('Hello,TensorFlow!')\n",
    "sess = tf.Session()\n",
    "print(sess.run(hello))"
   ]
  },
  {
   "cell_type": "code",
   "execution_count": 262,
   "metadata": {},
   "outputs": [
    {
     "name": "stdout",
     "output_type": "stream",
     "text": [
      "请输入起始的数字：(包括当前数字对应的frame）0\n",
      "0\n",
      "请输入结束的数字：（不包括当前数字对应的frame）0\n",
      "0\n",
      "0\n",
      "1:确认，0：重新输入1\n",
      "当前文件夹内总图片数： 4847\n",
      "是否继续:  1,继续；0，结束0\n",
      "videoplayback (36)\n"
     ]
    }
   ],
   "source": [
    "import shutil\n",
    "from pathlib import Path\n",
    "import os\n",
    "from IPython.display import clear_output\n",
    "\n",
    "name = 'videoplayback (36)'\n",
    "num = 2\n",
    "\n",
    "work_path = '/home/chen/datasets/Yawning/frame/' + name + '/' + str(num) + '/'\n",
    "work_path_desti = '/home/chen/datasets/Yawning/frame clear/' + name + '/'\n",
    "work_path_P = Path(work_path)\n",
    "\n",
    "if not os.path.exists(work_path_desti):\n",
    "    os.makedirs(work_path_desti)\n",
    "#print(work_path)\n",
    "jixu = 1\n",
    "\n",
    "folder_pic_num = len(os.listdir(work_path_desti))\n",
    "while jixu:\n",
    "    #break\n",
    "    clear_output()\n",
    "    start_num = input('请输入起始的数字：(包括当前数字对应的frame）')\n",
    "    print(start_num)\n",
    "    end_num = input('请输入结束的数字：（不包括当前数字对应的frame）')\n",
    "    print(end_num)\n",
    "    #print('\\n')\n",
    "    print(int(end_num) - int(start_num))\n",
    "    #print('\\n')\n",
    "    queren = int(input(\"1:确认，0：重新输入\"))    \n",
    "    while not queren:\n",
    "        start_num = input('请输入起始的数字：(包括当前数字对应的frame）')\n",
    "        print(start_num)\n",
    "        end_num = input('请输入结束的数字：（不包括当前数字对应的frame）')\n",
    "        print(end_num)\n",
    "        #print('\\n')\n",
    "        print(int(end_num) - int(start_num))\n",
    "        queren = int(input(\"1:确认，0：重新输入\"))\n",
    "\n",
    "    for frame_num in range(int(start_num), int(end_num)):\n",
    "        frame_name = work_path_P/(work_path_P.parent.name + '_' + str(frame_num) + '.jpg')\n",
    "        #print(frame_name)\n",
    "        shutil.move(str(frame_name), work_path_desti)\n",
    "        \n",
    "    folder_pic_num +=(int(end_num) - int(start_num))\n",
    "    print(\"当前文件夹内总图片数：\", folder_pic_num)\n",
    "    \n",
    "    jixu = int(input('是否继续:  1,继续；0，结束'))\n",
    "print(name)    \n",
    "    #break\n"
   ]
  },
  {
   "cell_type": "code",
   "execution_count": 256,
   "metadata": {},
   "outputs": [
    {
     "name": "stdout",
     "output_type": "stream",
     "text": [
      "range(3, 5)\n"
     ]
    }
   ],
   "source": [
    "248199\n",
    "1699410316\n",
    "print(range(3,5))"
   ]
  },
  {
   "cell_type": "code",
   "execution_count": 10,
   "metadata": {},
   "outputs": [
    {
     "name": "stdout",
     "output_type": "stream",
     "text": [
      "0\n",
      "3\n",
      "6\n",
      "9\n"
     ]
    }
   ],
   "source": [
    "t = range(0, 10, 3)\n",
    "for i in t:\n",
    "    print(i)"
   ]
  },
  {
   "cell_type": "code",
   "execution_count": 166,
   "metadata": {},
   "outputs": [],
   "source": [
    "for i in range(100, 50):\n",
    "    print(i)"
   ]
  },
  {
   "cell_type": "code",
   "execution_count": 168,
   "metadata": {},
   "outputs": [
    {
     "name": "stdout",
     "output_type": "stream",
     "text": [
      "range(100, 150)\n"
     ]
    }
   ],
   "source": [
    "print(range(100, 150))"
   ]
  }
 ],
 "metadata": {
  "kernelspec": {
   "display_name": "Python 3",
   "language": "python",
   "name": "python3"
  },
  "language_info": {
   "codemirror_mode": {
    "name": "ipython",
    "version": 3
   },
   "file_extension": ".py",
   "mimetype": "text/x-python",
   "name": "python",
   "nbconvert_exporter": "python",
   "pygments_lexer": "ipython3",
   "version": "3.5.2"
  }
 },
 "nbformat": 4,
 "nbformat_minor": 2
}
